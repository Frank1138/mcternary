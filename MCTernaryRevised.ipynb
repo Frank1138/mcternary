{
 "cells": [
  {
   "cell_type": "markdown",
   "metadata": {},
   "source": [
    "# Monte-Carlo Ternary Fission Simulator"
   ]
  },
  {
   "cell_type": "code",
   "execution_count": 48,
   "metadata": {},
   "outputs": [
    {
     "name": "stdout",
     "output_type": "stream",
     "text": [
      "Populating the interactive namespace from numpy and matplotlib\n"
     ]
    }
   ],
   "source": [
    "%pylab inline\n",
    "import numpy as np\n",
    "import matplotlib.pyplot as plt"
   ]
  },
  {
   "cell_type": "code",
   "execution_count": 2,
   "metadata": {
    "collapsed": true
   },
   "outputs": [],
   "source": [
    "alphapars=np.zeros(10)\n",
    "Lpars=np.zeros(10)\n",
    "Hpars=np.zeros(10)\n",
    "mandZandA=np.zeros(10)\n",
    "paxisandpP=np.zeros(6)\n",
    "DEpars=np.zeros(17)\n",
    "hatpars=np.zeros(14)\n",
    "energies=np.zeros(3)\n",
    "dD=np.zeros(7)"
   ]
  },
  {
   "cell_type": "code",
   "execution_count": 51,
   "metadata": {
    "collapsed": true
   },
   "outputs": [],
   "source": [
    "def getLightMass(avemL, sigmL, A):\n",
    "    '''\n",
    "    The mass of the light fragment is sampled \n",
    "    from a Gaussian distribution with an \n",
    "    average input value of avemL sigma of sigL. \n",
    "    AvemL, sigmL are obtained from reference x TBD.\n",
    "    '''\n",
    "    #Eventual code goes here\n",
    "    mL= np.random.normal(avemL, sigmL, 1)\n",
    "    #print np.mean(mL)\n",
    "    #print np.std(mL, ddof=1)\n",
    "    \n",
    "    '''\n",
    "    count, bins, ignored = plt.hist(mL, 50, normed=True)\n",
    "    plt.plot(bins, 1/(sigmL * np.sqrt(2 * np.pi)) *\n",
    "         np.exp( - (bins - avemL)**2 / (2 * sigmL**2) ),\n",
    "         linewidth=2, color='r')\n",
    "    plt.show()\n",
    "    '''\n",
    "    mandZandA[0]=mL\n",
    "    \n",
    "    return mandZandA"
   ]
  },
  {
   "cell_type": "code",
   "execution_count": 56,
   "metadata": {},
   "outputs": [
    {
     "data": {
      "text/plain": [
       "array([  113.21055889,  1118.74291111,     4.        ,    37.        ,\n",
       "          53.        ,     2.        ,    95.        ,   137.        ,\n",
       "           4.        ,     0.        ])"
      ]
     },
     "execution_count": 56,
     "metadata": {},
     "output_type": "execute_result"
    }
   ],
   "source": [
    "getLightMass(95, 15, 232)"
   ]
  },
  {
   "cell_type": "code",
   "execution_count": 4,
   "metadata": {
    "collapsed": true
   },
   "outputs": [],
   "source": [
    "def getfragmentZandA(mL, actA):\n",
    "    '''\n",
    "     Let the charge of the light and heavy \n",
    "     fragment be expressed as variable name \n",
    "     ZL and ZH. Using the mass from step 1, \n",
    "     the AL is computed by converting MeV to \n",
    "     amu. Since the alpha particle has Zalpha \n",
    "     of 2, use the value of AL to compute ZL, \n",
    "     ZH, and AH assuming an equal mass charge \n",
    "     distribution, that is, the ratio of ZL/AL \n",
    "     is equal to ZH/AH.\n",
    "    '''\n",
    "     #Eventual code goes here\n",
    "    ZL=37 #e C\n",
    "    ZH=90-ZL #e C\n",
    "    Zalpha=2 #e C\n",
    "    AL=95 #amu\n",
    "    AH=232-AL #amu\n",
    "    Aalpha=4 #amu\n",
    "    malpha=4 #amu\n",
    "    \n",
    "    mandZandA[2]=malpha\n",
    "    mandZandA[3]=ZL\n",
    "    mandZandA[4]=ZH\n",
    "    mandZandA[5]=Zalpha\n",
    "    mandZandA[6]=AL\n",
    "    mandZandA[7]=AH\n",
    "    mandZandA[8]=Aalpha\n",
    "    return mandZandA"
   ]
  },
  {
   "cell_type": "code",
   "execution_count": 5,
   "metadata": {},
   "outputs": [
    {
     "name": "stdout",
     "output_type": "stream",
     "text": [
      "[   0.    0.    4.   37.   53.    2.   95.  137.    4.    0.]\n"
     ]
    }
   ],
   "source": [
    "mandZandA=getfragmentZandA(1, 1)\n",
    "print mandZandA"
   ]
  },
  {
   "cell_type": "code",
   "execution_count": 6,
   "metadata": {
    "collapsed": true
   },
   "outputs": [],
   "source": [
    "def getmH(mandZandA):\n",
    "    #Semi-empirical mass formula constant terms\n",
    "    av = 15.5 #MeV\n",
    "    as1 = 17.2 #MeV\n",
    "    ac = 0.72 #MeV\n",
    "    asym = 23.2 #MeV\n",
    "    ap = 12 #MeV\n",
    "    delta = 0.\n",
    "    if mandZandA[7]%2==0 and mandZandA[4]%2==0:\n",
    "        delta = ap/np.sqrt(mandZandA[7])\n",
    "    if mandZandA[7]%2==0 and mandZandA[4]%2!=0:\n",
    "        delta = -ap/np.sqrt(mandZandA[7])\n",
    "    print(\"delta:\", delta, \"pairing term\")\n",
    "\n",
    "    B = av*mandZandA[7] - as1*mandZandA[7]**(2./3.) - (ac*mandZandA[4]*(mandZandA[4] - 1.0))/(mandZandA[7]**(1./3.)) - (asym*(mandZandA[7] - 2.0*mandZandA[4])**2)/(mandZandA[7]) + delta\n",
    "    mandZandA[1]=B\n",
    "    \n",
    "    return mandZandA"
   ]
  },
  {
   "cell_type": "code",
   "execution_count": 58,
   "metadata": {},
   "outputs": [
    {
     "name": "stdout",
     "output_type": "stream",
     "text": [
      "('delta:', 0.0, 'pairing term')\n"
     ]
    },
    {
     "data": {
      "text/plain": [
       "array([  113.21055889,  1118.74291111,     4.        ,    37.        ,\n",
       "          53.        ,     2.        ,    95.        ,   137.        ,\n",
       "           4.        ,     0.        ])"
      ]
     },
     "execution_count": 58,
     "metadata": {},
     "output_type": "execute_result"
    }
   ],
   "source": [
    "getmH(mandZandA)"
   ]
  },
  {
   "cell_type": "code",
   "execution_count": 8,
   "metadata": {
    "collapsed": true
   },
   "outputs": [],
   "source": [
    "def getE_alpha_scissandE_L_scissandE_H_sciss(EKB_act_infinity, EKB_act_sciss, EKT_act_infinity, deltaE_act, EKT_act_sciss, E_alpha_infinity):\n",
    "    '''\n",
    "    To compute the energy available for the three \n",
    "    particles coming out of the ternary fission, \n",
    "    we use the published numbers for the TKE of \n",
    "    binary fission minus the typical energy of the \n",
    "    LRA to figure out how much each fragment can have. \n",
    "    The variables and their initial values for U236 are: \n",
    "    EKB_act_infty = 168 +/- 4.5 MeV,\n",
    "    EKB_act_sciss = 18.1 MeV, \n",
    "    EKT_act_infty = 155.5 +/- 0.8 MeV. \n",
    "    At scission, the alpha-accompanied fission\n",
    "    has the initial values of: DeltaE_act = 4-5 MeV, \n",
    "    and EKT_act_sciss = 13 MeV. Furthermore, average\n",
    "    kinetic energy of alpha particle at infinity \n",
    "    measured to be: E_alpha_infty = 16 MeV.\n",
    "    \n",
    "    These values have been obtained from Negele et al. 1978,\n",
    "    and Asghar et al. 1970\n",
    "    \n",
    "    '''\n",
    "    #Eventual code goes here\n",
    "    E_alpha_sciss=128 #MeV\n",
    "    E_L_sciss=256 #MeV\n",
    "    E_H_sciss=512 #MeV\n",
    "    \n",
    "    energies[0]=E_alpha_sciss\n",
    "    energies[1]=E_L_sciss\n",
    "    energies[2]=E_H_sciss\n",
    "    return energies"
   ]
  },
  {
   "cell_type": "code",
   "execution_count": 68,
   "metadata": {
    "collapsed": true
   },
   "outputs": [],
   "source": [
    "def getd0andD0(mandZandA):\n",
    "    '''\n",
    "    Using initial value of ZL and ZH, calculate \n",
    "    distance d0 of the electrostatic saddle point \n",
    "    by using equation 21, relating it to separation \n",
    "    distance D0.\n",
    "    '''\n",
    "    #Eventual code goes here\n",
    "    D0=21.9 #fm\n",
    "    d0=D0/((mandZandA[4]/mandZandA[3])+1)\n",
    "    \n",
    "    dD[2]=d0\n",
    "    dD[3]=D0\n",
    "    return dD"
   ]
  },
  {
   "cell_type": "code",
   "execution_count": 69,
   "metadata": {},
   "outputs": [
    {
     "data": {
      "text/plain": [
       "array([ 10.        ,  22.        ,   9.00333333,  21.9       ,\n",
       "         9.30313355,  22.73638936,   2.3       ])"
      ]
     },
     "execution_count": 69,
     "metadata": {},
     "output_type": "execute_result"
    }
   ],
   "source": [
    "getd0andD0(mandZandA)"
   ]
  },
  {
   "cell_type": "code",
   "execution_count": 10,
   "metadata": {
    "collapsed": true
   },
   "outputs": [],
   "source": [
    "def getAvedandAveD(EKT_act_infinity, EKT_act_sciss, E_alpha_infinity,E_alpha_sciss,mandZandA):\n",
    "    '''\n",
    "    Use a guessed value for mean alpha KE \n",
    "    and equation 20 in order to calculate \n",
    "    average of d and D\n",
    "    '''\n",
    "    #Eventual code goes here\n",
    "    aved=10 #fm\n",
    "    aveD=22 #fm\n",
    "    \n",
    "    dD[0]=aved\n",
    "    dD[1]=aveD\n",
    "    return dD"
   ]
  },
  {
   "cell_type": "code",
   "execution_count": 63,
   "metadata": {
    "collapsed": true
   },
   "outputs": [],
   "source": [
    "def getdandD(sigma_xp, dD, sigma_D):\n",
    "    '''\n",
    "    To account for uncertainty in separation \n",
    "    distance D, choose random values of D \n",
    "    from a Gaussian, equation 23 (with a width \n",
    "    of sigma_D = 1 fm). The uncertainty will \n",
    "    thus be given by summing a random variable\n",
    "    (defined by equation 24b) with the value \n",
    "    of the separation distance obtained from \n",
    "    equation 20.  Likewise, as for the distance \n",
    "    d of the electrostatic saddle point, its \n",
    "    uncertainty is given by sampling d from a\n",
    "    Gaussian distribution (equation 25), and \n",
    "    then by summing a random variable \n",
    "    (equation 26b) to d value from equation 20. \n",
    "    Where sigma_xp=0.93.\n",
    "    '''\n",
    "    \n",
    "    d=np.random.normal(dD[2], 1) #fm\n",
    "    D=np.random.normal(dD[3], sigma_D, 1) #fm\n",
    "    \n",
    "    dD[4]=d\n",
    "    dD[5]=D\n",
    "    return dD"
   ]
  },
  {
   "cell_type": "code",
   "execution_count": 70,
   "metadata": {},
   "outputs": [
    {
     "name": "stdout",
     "output_type": "stream",
     "text": [
      "[ 10.          22.           9.00333333  21.9          9.01011023\n",
      "  23.12361082   2.3       ]\n"
     ]
    }
   ],
   "source": [
    "dD=getdandD(1, dD, 1)\n",
    "print dD"
   ]
  },
  {
   "cell_type": "code",
   "execution_count": 71,
   "metadata": {
    "collapsed": true
   },
   "outputs": [],
   "source": [
    "def getxpandypandzpandRc(dD, xpin, ypin, zpin,sigma_xp, sigma_yp, sigma_zp):\n",
    "    '''\n",
    "    To compute the uncertainty of the alpha \n",
    "    particle position along the primed axis, \n",
    "    use Gaussian distribution around d0, given \n",
    "    by equation 25, where x’ = d-d0. One can \n",
    "    also use the same approach for figuring out \n",
    "    the uncertainty along y’ and z’, while \n",
    "    assuming that sigma_y’ = sigma_z’. Using \n",
    "    equation 28, one can then compute Rc from \n",
    "    equation 27.\n",
    "    '''\n",
    "    #Eventual code goes here\n",
    "    xpout=1.2 #fm\n",
    "    ypout=2.3 #fm\n",
    "    zpout=2.2 #fm\n",
    "    Rc=ypout #fm\n",
    "    \n",
    "    paxisandpP[0]=xpout\n",
    "    paxisandpP[1]=ypout\n",
    "    paxisandpP[2]=zpout\n",
    "    dD[6]=Rc\n",
    "    return paxisandpP, dD"
   ]
  },
  {
   "cell_type": "code",
   "execution_count": 14,
   "metadata": {
    "collapsed": true
   },
   "outputs": [],
   "source": [
    "def getPxpandPypandPzp(Pxpin, Pypin, Pzpin, sigma_xp, sigma_yp, sigma_zp):\n",
    "    '''\n",
    "    Use the uncertainty principle to select \n",
    "    the initial momentum of the alpha particle \n",
    "    using a Gaussian distribution, employing \n",
    "    equations 30 and 31, where \n",
    "    sigma_x’ = 0.93 fm \n",
    "    and sigma_y’ = sigma_z’ = 1.3 fm.\n",
    "    \n",
    "    The choice\n",
    "of sigma_x' is obtained from the assumption that an estimate\n",
    "of sigma_x', may be of an order of magnitude of the\n",
    "root mean square of the radius of the alpha particle.\n",
    "The values of sigma_y' =sigma_z', are chosen to be sqrt(2) sigma_x' rather\n",
    "arbitrarily (larger and smaller values of  were\n",
    "used, and they seemed to give poorer agreement between\n",
    "theory and experiment).\n",
    "    '''\n",
    "    #Eventual code goes here\n",
    "    Pxpout=2.4 #kg*m/s\n",
    "    Pypout=4.6 #kg*m/s\n",
    "    Pzpout=4.4 #kg*m/s\n",
    "    \n",
    "    paxisandpP[3]=Pxpout\n",
    "    paxisandpP[4]=Pypout\n",
    "    paxisandpP[5]=Pzpout\n",
    "    return paxisandpP"
   ]
  },
  {
   "cell_type": "code",
   "execution_count": 15,
   "metadata": {
    "collapsed": true
   },
   "outputs": [],
   "source": [
    "def getVL0andVH0(mandZandA):\n",
    "    '''\n",
    "    From conservation of momentum, explain what is \n",
    "    used to calculate them\n",
    "    \n",
    "    two default values given the numbers in the \n",
    "    paper come out to be\n",
    "    VL0 = 0.013c\n",
    "    and VH0 = 0.009c.\n",
    "    '''\n",
    "   \n",
    "    M=236\n",
    "    VH0 = 2*mandZandA[0]*M/(mandZandA[1]*(mandZandA[1] + 2*mandZandA[2])) #c m/s\n",
    "    VL0 = (M-mandZandA[1]*VH0**2)/mandZandA[0] #c m/s\n",
    "    \n",
    "    DEpars[15]=VL0\n",
    "    DEpars[16]=VH0\n",
    "    return DEpars, VH0, VL0"
   ]
  },
  {
   "cell_type": "code",
   "execution_count": 16,
   "metadata": {
    "collapsed": true
   },
   "outputs": [],
   "source": [
    "def getR0andV0andT0(mandZandA):\n",
    "    '''\n",
    "    Depending on your fission fragments, \n",
    "    select the radius of each one from reference \n",
    "    x TBD and compute the average radii using \n",
    "    equation 11. Compute the average speed using \n",
    "    equation 12 and find T0 using equation 13.\n",
    "    '''\n",
    "    #Eventual code goes here\n",
    "    R0=4.86 #fm\n",
    "    V0=(DEpars[15]+DEpars[16])/2 #c m/s\n",
    "    T0=V0/R0 #1/c m/s\n",
    "    \n",
    "    DEpars[12]=R0\n",
    "    DEpars[13]=V0\n",
    "    DEpars[14]=T0\n",
    "    \n",
    "    return DEpars"
   ]
  },
  {
   "cell_type": "code",
   "execution_count": 85,
   "metadata": {},
   "outputs": [
    {
     "name": "stdout",
     "output_type": "stream",
     "text": [
      "[  2.05365646e+01   1.83780038e+00  -4.73251029e-01  -4.11522634e+00\n",
      "   2.24811616e+01   4.74140751e+00   2.16840434e-19   1.47137516e-02\n",
      "   3.32049108e+01   3.28893604e+00   5.38673220e-01   4.70081288e+00\n",
      "   4.86000000e+00   4.20083533e+00   8.64369409e-01   8.39114499e+00\n",
      "   1.05256639e-02]\n"
     ]
    }
   ],
   "source": [
    "print DEpars"
   ]
  },
  {
   "cell_type": "code",
   "execution_count": 18,
   "metadata": {
    "collapsed": true
   },
   "outputs": [],
   "source": [
    "def getpositionandvelocity(mandZandA, dD):\n",
    "    '''\n",
    "     Using equations in Table 1, compute initial coordinates \n",
    "     and velocities of light, heavy and alpha \n",
    "     particles in the center of mass frame. The \n",
    "     velocity of alpha fragment is to be chosen \n",
    "     at random following a Gaussian distribution - with what parameter values? \n",
    "     In addition, velocities of the heavy and light \n",
    "     fragments are to be modified as to keep the \n",
    "     total momentum of the system as zero in the \n",
    "     cm frame. In other words, the values which the \n",
    "     L and H fragment can attain will be constricted \n",
    "     to whatever keeps total CM momentum zero\n",
    "    '''\n",
    "    #Eventual code goes here\n",
    "    Vxalpha=0.6 #fm/s\n",
    "    Vyalpha=-0.2 #fm/s\n",
    "    Vzalpha=2.4 #fm/s\n",
    "    \n",
    "    mLH=mandZandA[0]+mandZandA[1]\n",
    "    M=mandZandA[0]+mandZandA[1]+mandZandA[2]\n",
    "    deltax=dD[4]-(mandZandA[1]/mLH)*dD[5]\n",
    "    deltaV=(mandZandA[0]*DEpars[15]-mandZandA[1]*DEpars[16]+mandZandA[2]*Vxalpha)/mLH\n",
    "    \n",
    "    xL=(mandZandA[2]/M)*deltax+(mandZandA[1]/M)*dD[5] #fm\n",
    "    xH= -(mLH/M)*deltax-dD[5]+dD[4] #fm\n",
    "    xalpha= -(mLH/M)*deltax #fm\n",
    "    \n",
    "    yL= -(mandZandA[2]/M)*dD[6] #fm\n",
    "    yH=yL #fm\n",
    "    yalpha=(mLH/M)*dD[6] #fm\n",
    "    \n",
    "    zL=0. #fm\n",
    "    zH=0. #fm\n",
    "    zalpha=20. #fm  this is supposed to be 0 \n",
    "    \n",
    "    VxL=0.5 #fm/s\n",
    "    VxH=-0.3 #fm/s\n",
    "    \n",
    "    VyL=-(mandZandA[2]/mLH)*Vyalpha #fm/s\n",
    "    VyH=VyL #fm/s\n",
    "    \n",
    "    VzL=-(mandZandA[2]/mLH)*Vzalpha #fm/s\n",
    "    VzH=VzL #fm/s\n",
    "    \n",
    "    \n",
    "    alphapars[0]=xalpha\n",
    "    alphapars[1]=yalpha\n",
    "    alphapars[2]=zalpha\n",
    "    alphapars[3]=Vxalpha\n",
    "    alphapars[4]=Vyalpha\n",
    "    alphapars[5]=Vzalpha\n",
    "    \n",
    "    Lpars[0]=xL\n",
    "    Lpars[1]=yL\n",
    "    Lpars[2]=zL\n",
    "    Lpars[3]=VxL\n",
    "    Lpars[4]=VyL\n",
    "    Lpars[5]=VzL\n",
    "    \n",
    "    Hpars[0]=xH\n",
    "    Hpars[1]=yH\n",
    "    Hpars[2]=zH\n",
    "    Hpars[3]=VxH\n",
    "    Hpars[4]=VyH\n",
    "    Hpars[5]=VzH\n",
    "    return alphapars, Lpars, Hpars"
   ]
  },
  {
   "cell_type": "code",
   "execution_count": 82,
   "metadata": {
    "collapsed": true
   },
   "outputs": [],
   "source": [
    "def getDEparameters(mandZandA, DEpars,  Lpars, alphapars, t):\n",
    "    '''\n",
    "    Using results from equations 11-13, and \n",
    "    the initial positions/velocities found in \n",
    "    previous step, compute differential\n",
    "    equation parameters found in equations 7-10.\n",
    "    '''\n",
    "    c=299792458 #m/s\n",
    "    \n",
    "  \n",
    "    xhL=Lpars[0]/DEpars[12] #no unit\n",
    "    xhalpha=alphapars[0]/DEpars[12] #no unit\n",
    "    vhxL=Lpars[3]/DEpars[13] #no unit\n",
    "    vhxalpha=alphapars[3]/DEpars[13] #no unit\n",
    "    \n",
    "    yhL=Lpars[1]/DEpars[12] #no unit\n",
    "    yhalpha=alphapars[1]/DEpars[12] #no unit\n",
    "    vhyL=Lpars[4]/DEpars[13] #no unit\n",
    "    vhyalpha=alphapars[4]/DEpars[13] #no unit\n",
    "    \n",
    "    zhL=Lpars[2]/DEpars[12] #no unit\n",
    "    zhalpha=alphapars[2]/DEpars[12] #no unit\n",
    "    vhzL=Lpars[5]/DEpars[13] #no unit\n",
    "    vhzalpha=alphapars[5]/DEpars[13] #no unit\n",
    "    \n",
    "    \n",
    "    Ax=xhL-xhalpha #no unit\n",
    "    Bx=(1+mandZandA[0]/mandZandA[1])*xhL+(mandZandA[2]/mandZandA[1])*xhalpha #no unit\n",
    "    Cx=(mandZandA[0]/mandZandA[1])*xhL+(1+mandZandA[2]/mandZandA[0])*xhalpha #no unit\n",
    "    \n",
    "    Ay=yhL-yhalpha #no unit\n",
    "    By=(1+mandZandA[0]/mandZandA[1])*yhL+(mandZandA[2]/mandZandA[1])*yhalpha #no unit\n",
    "    Cy=(mandZandA[0]/mandZandA[1])*yhL+(1+mandZandA[2]/mandZandA[0])*yhalpha #no unit\n",
    "    \n",
    "    Az=zhL-zhalpha #no unit\n",
    "    Bz=(1+mandZandA[0]/mandZandA[1])*zhL+(mandZandA[2]/mandZandA[1])*zhalpha #no unit\n",
    "    Cz=(mandZandA[0]/mandZandA[1])*zhL+(1+mandZandA[2]/mandZandA[0])*zhalpha #no unit\n",
    "    \n",
    "    \n",
    "    A=(Ax**2+Ay**2+Az**2)**(3/2) #no unit\n",
    "    B=(Bx**2+By**2+Bz**2)**(3/2) #no unit\n",
    "    C=(Cx**2+Cy**2+Cz**2)**(3/2) #no unit\n",
    "    \n",
    "    \n",
    "    th=t/DEpars[14] #no unit\n",
    "    beta0=DEpars[13]/c #no unit\n",
    "    \n",
    "    \n",
    "    DEpars[0]=A\n",
    "    DEpars[1]=Ax\n",
    "    DEpars[2]=Ay\n",
    "    DEpars[3]=Az\n",
    "    DEpars[4]=B\n",
    "    DEpars[5]=Bx\n",
    "    DEpars[6]=By\n",
    "    DEpars[7]=Bz\n",
    "    DEpars[8]=C\n",
    "    DEpars[9]=Cx\n",
    "    DEpars[10]=Cy\n",
    "    DEpars[11]=Cz\n",
    "    \n",
    "    hatpars[0]=xhL\n",
    "    hatpars[1]=yhL\n",
    "    hatpars[2]=zhL\n",
    "    hatpars[3]=vhxL\n",
    "    hatpars[4]=vhyL\n",
    "    hatpars[5]=vhzL\n",
    "    hatpars[6]=xhalpha\n",
    "    hatpars[7]=yhalpha\n",
    "    hatpars[8]=zhalpha\n",
    "    hatpars[9]=vhxalpha\n",
    "    hatpars[10]=vhyalpha\n",
    "    hatpars[11]=vhzalpha\n",
    "    hatpars[12]=th\n",
    "    hatpars[13]=beta0\n",
    "    \n",
    "    return DEpars, hatpars"
   ]
  },
  {
   "cell_type": "code",
   "execution_count": 20,
   "metadata": {
    "collapsed": true
   },
   "outputs": [],
   "source": [
    " def getPalpha(alphapars):\n",
    "        pxalpha=1\n",
    "        pyalpha=2\n",
    "        pzalpha=7\n",
    "        \n",
    "        alphapars[6]=pxalpha\n",
    "        alphapars[7]=pyalpha\n",
    "        alphapars[8]=pzalpha\n",
    "        alphapars[9]=alphapars[6]+alphapars[7]+alphapars[8]\n",
    "        return alphapars"
   ]
  },
  {
   "cell_type": "code",
   "execution_count": 21,
   "metadata": {
    "collapsed": true
   },
   "outputs": [],
   "source": [
    "def getdistanceL(alphapars, Lpars):\n",
    "    from math import pow\n",
    "    distanceL=pow((pow(alphapars[0]-Lpars[0], 2)+pow(alphapars[1]-Lpars[1], 2)+pow(alphapars[2]-Lpars[2], 2)), 0.5)\n",
    "    return distanceL"
   ]
  },
  {
   "cell_type": "code",
   "execution_count": 22,
   "metadata": {
    "collapsed": true
   },
   "outputs": [],
   "source": [
    "def getdistanceH(alphapars, Hpars):\n",
    "    from math import pow\n",
    "    distanceH=pow((pow(alphapars[0]-Hpars[0], 2)+pow(alphapars[1]-Hpars[1], 2)+pow(alphapars[2]-Hpars[2], 2)), 0.5)\n",
    "    return distanceH"
   ]
  },
  {
   "cell_type": "code",
   "execution_count": 83,
   "metadata": {
    "collapsed": true
   },
   "outputs": [],
   "source": [
    "def initparameters():\n",
    "    avemL=27.\n",
    "    sigmL=3.\n",
    "    M=232\n",
    "    actA=239.\n",
    "    EKB_act_infinity=124\n",
    "    EKB_act_sciss=114\n",
    "    EKT_act_infinity=154\n",
    "    deltaE_act=186\n",
    "    EKT_act_sciss=287\n",
    "    EKT_act_sciss=268\n",
    "    E_alpha_infinity=298\n",
    "    Zalpha=2\n",
    "    sigma_xp=1.3\n",
    "    sigma_D=1\n",
    "    xpin=25\n",
    "    ypin=12\n",
    "    zpin=14\n",
    "    sigma_yp=0.93\n",
    "    sigma_zp=0.93\n",
    "    Pxpin=13\n",
    "    Pypin=23\n",
    "    Pzpin=33\n",
    "    inputs=50\n",
    "    mH=137\n",
    "    malpha=4\n",
    "    zalpha=2\n",
    "    A=236\n",
    "    t=4\n",
    "    \n",
    "    mandZandA=getLightMass(avemL,sigmL, A)\n",
    "    mandZandA=getfragmentZandA(mandZandA,actA)\n",
    "    energies=getE_alpha_scissandE_L_scissandE_H_sciss(EKB_act_infinity,EKB_act_sciss,EKT_act_infinity,deltaE_act,EKT_act_sciss,E_alpha_infinity)\n",
    "    dD=getd0andD0(mandZandA)\n",
    "    dD=getAvedandAveD(EKT_act_infinity,EKT_act_sciss,E_alpha_infinity,energies,mandZandA)\n",
    "    #dD=getdandD(dD,sigma_xp,sigma_D)\n",
    "    paxisandpP,dD=getxpandypandzpandRc(dD,xpin,sigma_xp,ypin,sigma_yp,zpin, sigma_zp)\n",
    "    paxisandpP=getPxpandPypandPzp(Pxpin,Pypin,Pzpin,sigma_xp,sigma_yp,sigma_zp)\n",
    "    DEpars=getVL0andVH0(mandZandA)\n",
    "    DEpars=getR0andV0andT0(mandZandA)\n",
    "    \n",
    "    alphapars, Lpars, Hpars=getpositionandvelocity(mandZandA,dD)\n",
    "    alphapars=getPalpha(alphapars)\n",
    "    \n",
    "    DEpars, hatpars=getDEparameters(mandZandA, DEpars, Lpars, alphapars, t)\n",
    "\n",
    "    \n",
    "    return mandZandA, energies,dD, paxisandpP, alphapars, Lpars, Hpars, DEpars, hatpars"
   ]
  },
  {
   "cell_type": "code",
   "execution_count": 84,
   "metadata": {},
   "outputs": [
    {
     "data": {
      "text/plain": [
       "(array([   28.11011551,  1118.74291111,     4.        ,    37.        ,\n",
       "           53.        ,     2.        ,    95.        ,   137.        ,\n",
       "            4.        ,     0.        ]),\n",
       " array([ 128.,  256.,  512.]),\n",
       " array([ 10.        ,  22.        ,   9.00333333,  21.9       ,\n",
       "          9.01011023,  23.12361082,   2.3       ]),\n",
       " array([ 1.2,  2.3,  2.2,  2.4,  4.6,  4.4]),\n",
       " array([ 13.49964169,   2.29200593,  20.        ,   0.6       ,\n",
       "         -0.2       ,   2.4       ,   1.        ,   2.        ,\n",
       "          7.        ,  10.        ]),\n",
       " array([  2.24313515e+01,  -7.99407030e-03,   0.00000000e+00,\n",
       "          5.00000000e-01,   6.97561049e-04,  -8.37073258e-03,\n",
       "          0.00000000e+00,   0.00000000e+00,   0.00000000e+00,\n",
       "          0.00000000e+00]),\n",
       " array([-0.6138589 , -0.00799407,  0.        , -0.3       ,  0.00069756,\n",
       "        -0.00837073,  0.        ,  0.        ,  0.        ,  0.        ]),\n",
       " array([  2.05365646e+01,   1.83780038e+00,  -4.73251029e-01,\n",
       "         -4.11522634e+00,   2.24811616e+01,   4.74140751e+00,\n",
       "          2.16840434e-19,   1.47137516e-02,   3.32049108e+01,\n",
       "          3.28893604e+00,   5.38673220e-01,   4.70081288e+00,\n",
       "          4.86000000e+00,   4.20083533e+00,   8.64369409e-01,\n",
       "          8.39114499e+00,   1.05256639e-02]),\n",
       " array([  4.61550443e+00,  -1.64487043e-03,   0.00000000e+00,\n",
       "          1.19023947e-01,   1.66052938e-04,  -1.99263526e-03,\n",
       "          2.77770405e+00,   4.71606158e-01,   4.11522634e+00,\n",
       "          1.42828736e-01,  -4.76095787e-02,   5.71314944e-01,\n",
       "          4.62765105e+00,   1.40124783e-08]))"
      ]
     },
     "execution_count": 84,
     "metadata": {},
     "output_type": "execute_result"
    }
   ],
   "source": [
    "initparameters()"
   ]
  },
  {
   "cell_type": "code",
   "execution_count": 25,
   "metadata": {
    "collapsed": true
   },
   "outputs": [],
   "source": [
    "def writeresults(filename, results, label):\n",
    "    '''\n",
    "    Once numerical solution for each equation \n",
    "    of motion has been completed, write file \n",
    "    to filename with particle trajectory data.\n",
    "    '''\n",
    "    \n",
    "    matrix=np.array([alphapars, Lpars, Hpars, mandZandA])\n",
    "    writer=file('test.txt', 'a')\n",
    "    np.savetxt(writer, (mandZandA, alphapars, Lpars, Hpars), fmt='%.3f', header=label)\n",
    "    writer.close()\n",
    "    #!cat test.txt\n",
    "    return matrix\n",
    "    #Does this return anything?"
   ]
  },
  {
   "cell_type": "code",
   "execution_count": 26,
   "metadata": {
    "collapsed": true
   },
   "outputs": [],
   "source": [
    "def solveequationsofmotion(DEpars,hatpars,mandZandA, momentum, distanceL, distanceH):\n",
    "    '''\n",
    "    All of the preceding parameters are to \n",
    "    be passed in order to set up differential \n",
    "    equations of motion for the light and alpha \n",
    "    particles, equations 5 and 6.\n",
    "    The coupled first-order differential \n",
    "    equations are to be solved numerically by \n",
    "    employing the Adams-Moulton predictor-corrector \n",
    "    method. This will compute the solutions to the \n",
    "    equations of motion (while the equation of motion \n",
    "    for the heavy fragment can be obtained via \n",
    "    conservation of momentum).\n",
    "    '''\n",
    "    mome=momentum-1\n",
    "    distanceL=distanceL-1\n",
    "    distanceH=distanceH-1\n",
    "    print mome\n",
    "    print distanceL\n",
    "    print distanceH\n",
    "            \n",
    "    #Eventual code goes here\n",
    "    #Return results  -- WHAT FORM ARE THE RESULTS IN?\n",
    "    \n",
    "    return mome, distanceL, distanceH\n",
    "    #return xalpha, yalpha, zalpha, pxalpha, pyalpha, pzalpha, xL, yL, zL, xH, yH, zH"
   ]
  },
  {
   "cell_type": "code",
   "execution_count": 28,
   "metadata": {},
   "outputs": [
    {
     "name": "stdout",
     "output_type": "stream",
     "text": [
      "6\n",
      "0\n",
      "1\n",
      "-1\n",
      "0.0\n"
     ]
    }
   ],
   "source": [
    "Palpha=2\n",
    "PL=2\n",
    "PH=2\n",
    "SP=Palpha+PL+PH\n",
    "print SP\n",
    "while True:\n",
    "    Palpha=float(raw_input())\n",
    "    PL=float(raw_input())\n",
    "    PH=float(raw_input())\n",
    "    SP=Palpha+PL+PH\n",
    "    print SP\n",
    "    if SP==0:\n",
    "        break\n",
    "    "
   ]
  },
  {
   "cell_type": "code",
   "execution_count": 29,
   "metadata": {
    "collapsed": true
   },
   "outputs": [],
   "source": [
    "def m(A, E):\n",
    "    \n",
    "    e=0\n",
    "    events=np.array([e,E])\n",
    "    while events[0]<E:\n",
    "        events[0]=events[0]+1\n",
    "        mandZandA, energies,dD, paxisandpP, alphapars, Lpars, Hpars, DEpars, hatpars=initparameters()\n",
    "        \n",
    "        distanceL=getdistanceL(alphapars, Lpars)\n",
    "        distanceH=getdistanceH(alphapars, Hpars)\n",
    "        momentum=alphapars[9]\n",
    "        \n",
    "        filename=\"test.txt\"\n",
    "        writer=file('test.txt', 'a')\n",
    "        np.savetxt(writer, events, fmt='%d',header='event', newline=' ')\n",
    "        writer.close()\n",
    "        writeresults(filename, 1, \"test datas\")\n",
    "        \n",
    "        while True:\n",
    "            #numerical solver\n",
    "            \n",
    "                momentum, distanceL, distanceH=solveequationsofmotion(DEpars,hatpars,mandZandA, momentum, distanceL, distanceH)\n",
    "    \n",
    "                if momentum==0 or distanceL<=0.8 or distanceH<=0.8:\n",
    "                #write results\n",
    "                        print \"Results\"\n",
    "                        alphapars[9]=momentum\n",
    "                    \n",
    "                        writeresults(filename, 1, \"test datae\")\n",
    "                    \n",
    "                        break\n",
    "                    "
   ]
  },
  {
   "cell_type": "code",
   "execution_count": 30,
   "metadata": {},
   "outputs": [
    {
     "name": "stdout",
     "output_type": "stream",
     "text": [
      "9.0\n",
      "21.0261241574\n",
      "22.4369366599\n",
      "8.0\n",
      "20.0261241574\n",
      "21.4369366599\n",
      "7.0\n",
      "19.0261241574\n",
      "20.4369366599\n",
      "6.0\n",
      "18.0261241574\n",
      "19.4369366599\n",
      "5.0\n",
      "17.0261241574\n",
      "18.4369366599\n",
      "4.0\n",
      "16.0261241574\n",
      "17.4369366599\n",
      "3.0\n",
      "15.0261241574\n",
      "16.4369366599\n",
      "2.0\n",
      "14.0261241574\n",
      "15.4369366599\n",
      "1.0\n",
      "13.0261241574\n",
      "14.4369366599\n",
      "0.0\n",
      "12.0261241574\n",
      "13.4369366599\n",
      "Results\n",
      "9.0\n",
      "21.0261241574\n",
      "22.4369366599\n",
      "8.0\n",
      "20.0261241574\n",
      "21.4369366599\n",
      "7.0\n",
      "19.0261241574\n",
      "20.4369366599\n",
      "6.0\n",
      "18.0261241574\n",
      "19.4369366599\n",
      "5.0\n",
      "17.0261241574\n",
      "18.4369366599\n",
      "4.0\n",
      "16.0261241574\n",
      "17.4369366599\n",
      "3.0\n",
      "15.0261241574\n",
      "16.4369366599\n",
      "2.0\n",
      "14.0261241574\n",
      "15.4369366599\n",
      "1.0\n",
      "13.0261241574\n",
      "14.4369366599\n",
      "0.0\n",
      "12.0261241574\n",
      "13.4369366599\n",
      "Results\n",
      "9.0\n",
      "21.0261241574\n",
      "22.4369366599\n",
      "8.0\n",
      "20.0261241574\n",
      "21.4369366599\n",
      "7.0\n",
      "19.0261241574\n",
      "20.4369366599\n",
      "6.0\n",
      "18.0261241574\n",
      "19.4369366599\n",
      "5.0\n",
      "17.0261241574\n",
      "18.4369366599\n",
      "4.0\n",
      "16.0261241574\n",
      "17.4369366599\n",
      "3.0\n",
      "15.0261241574\n",
      "16.4369366599\n",
      "2.0\n",
      "14.0261241574\n",
      "15.4369366599\n",
      "1.0\n",
      "13.0261241574\n",
      "14.4369366599\n",
      "0.0\n",
      "12.0261241574\n",
      "13.4369366599\n",
      "Results\n",
      "9.0\n",
      "21.0261241574\n",
      "22.4369366599\n",
      "8.0\n",
      "20.0261241574\n",
      "21.4369366599\n",
      "7.0\n",
      "19.0261241574\n",
      "20.4369366599\n",
      "6.0\n",
      "18.0261241574\n",
      "19.4369366599\n",
      "5.0\n",
      "17.0261241574\n",
      "18.4369366599\n",
      "4.0\n",
      "16.0261241574\n",
      "17.4369366599\n",
      "3.0\n",
      "15.0261241574\n",
      "16.4369366599\n",
      "2.0\n",
      "14.0261241574\n",
      "15.4369366599\n",
      "1.0\n",
      "13.0261241574\n",
      "14.4369366599\n",
      "0.0\n",
      "12.0261241574\n",
      "13.4369366599\n",
      "Results\n"
     ]
    }
   ],
   "source": [
    "m(0, 4)"
   ]
  },
  {
   "cell_type": "code",
   "execution_count": null,
   "metadata": {
    "collapsed": true
   },
   "outputs": [],
   "source": []
  }
 ],
 "metadata": {
  "kernelspec": {
   "display_name": "Python 2",
   "language": "python",
   "name": "python2"
  },
  "language_info": {
   "codemirror_mode": {
    "name": "ipython",
    "version": 2
   },
   "file_extension": ".py",
   "mimetype": "text/x-python",
   "name": "python",
   "nbconvert_exporter": "python",
   "pygments_lexer": "ipython2",
   "version": "2.7.6"
  }
 },
 "nbformat": 4,
 "nbformat_minor": 2
}
