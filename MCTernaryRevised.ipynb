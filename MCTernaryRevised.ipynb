{
 "cells": [
  {
   "cell_type": "markdown",
   "metadata": {},
   "source": [
    "# Monte-Carlo Ternary Fission Simulator"
   ]
  },
  {
   "cell_type": "markdown",
   "metadata": {},
   "source": [
    "This cell imports the necessary packages for the code\n",
    "as well as a library which contains the code itself"
   ]
  },
  {
   "cell_type": "code",
   "execution_count": 1,
   "metadata": {},
   "outputs": [
    {
     "name": "stdout",
     "output_type": "stream",
     "text": [
      "Populating the interactive namespace from numpy and matplotlib\n"
     ]
    }
   ],
   "source": [
    "%pylab inline\n",
    "import numpy as np\n",
    "import matplotlib.pyplot as plt\n",
    "from mcternary import *"
   ]
  },
  {
   "cell_type": "markdown",
   "metadata": {},
   "source": [
    "The following is the main function of the program. It\n",
    "takes the mass number of the desired nucleus and \n",
    "number of events. It also takes the names of the arrays\n",
    "which contain the variables used throughout the code.\n",
    "Using these inputs, the function calls all of the helper\n",
    "functions in the library, and executes them in the correct\n",
    "sequence. Subsequently, the function returns the initial\n",
    "and final values of the coordinates, velocities and\n",
    "momenta of each of the fragments."
   ]
  },
  {
   "cell_type": "code",
   "execution_count": 4,
   "metadata": {},
   "outputs": [
    {
     "name": "stdout",
     "output_type": "stream",
     "text": [
      "8.92773891679\n",
      "20.8164698315\n",
      "24.0574790827\n",
      "7.92773891679\n",
      "19.8164698315\n",
      "23.0574790827\n",
      "6.92773891679\n",
      "18.8164698315\n",
      "22.0574790827\n",
      "5.92773891679\n",
      "17.8164698315\n",
      "21.0574790827\n",
      "4.92773891679\n",
      "16.8164698315\n",
      "20.0574790827\n",
      "3.92773891679\n",
      "15.8164698315\n",
      "19.0574790827\n",
      "2.92773891679\n",
      "14.8164698315\n",
      "18.0574790827\n",
      "1.92773891679\n",
      "13.8164698315\n",
      "17.0574790827\n",
      "0.927738916793\n",
      "12.8164698315\n",
      "16.0574790827\n",
      "-0.0722610832073\n",
      "11.8164698315\n",
      "15.0574790827\n",
      "Results\n",
      "8.92773891679\n",
      "20.8021886035\n",
      "22.7616901029\n",
      "7.92773891679\n",
      "19.8021886035\n",
      "21.7616901029\n",
      "6.92773891679\n",
      "18.8021886035\n",
      "20.7616901029\n",
      "5.92773891679\n",
      "17.8021886035\n",
      "19.7616901029\n",
      "4.92773891679\n",
      "16.8021886035\n",
      "18.7616901029\n",
      "3.92773891679\n",
      "15.8021886035\n",
      "17.7616901029\n",
      "2.92773891679\n",
      "14.8021886035\n",
      "16.7616901029\n",
      "1.92773891679\n",
      "13.8021886035\n",
      "15.7616901029\n",
      "0.927738916793\n",
      "12.8021886035\n",
      "14.7616901029\n",
      "-0.0722610832073\n",
      "11.8021886035\n",
      "13.7616901029\n",
      "Results\n",
      "8.92773891679\n",
      "20.8691277912\n",
      "24.1635239467\n",
      "7.92773891679\n",
      "19.8691277912\n",
      "23.1635239467\n",
      "6.92773891679\n",
      "18.8691277912\n",
      "22.1635239467\n",
      "5.92773891679\n",
      "17.8691277912\n",
      "21.1635239467\n",
      "4.92773891679\n",
      "16.8691277912\n",
      "20.1635239467\n",
      "3.92773891679\n",
      "15.8691277912\n",
      "19.1635239467\n",
      "2.92773891679\n",
      "14.8691277912\n",
      "18.1635239467\n",
      "1.92773891679\n",
      "13.8691277912\n",
      "17.1635239467\n",
      "0.927738916793\n",
      "12.8691277912\n",
      "16.1635239467\n",
      "-0.0722610832073\n",
      "11.8691277912\n",
      "15.1635239467\n",
      "Results\n",
      "8.92773891679\n",
      "21.0831301828\n",
      "23.1641485246\n",
      "7.92773891679\n",
      "20.0831301828\n",
      "22.1641485246\n",
      "6.92773891679\n",
      "19.0831301828\n",
      "21.1641485246\n",
      "5.92773891679\n",
      "18.0831301828\n",
      "20.1641485246\n",
      "4.92773891679\n",
      "17.0831301828\n",
      "19.1641485246\n",
      "3.92773891679\n",
      "16.0831301828\n",
      "18.1641485246\n",
      "2.92773891679\n",
      "15.0831301828\n",
      "17.1641485246\n",
      "1.92773891679\n",
      "14.0831301828\n",
      "16.1641485246\n",
      "0.927738916793\n",
      "13.0831301828\n",
      "15.1641485246\n",
      "-0.0722610832073\n",
      "12.0831301828\n",
      "14.1641485246\n",
      "Results\n"
     ]
    }
   ],
   "source": [
    "runMCTernary(239, 4)"
   ]
  },
  {
   "cell_type": "markdown",
   "metadata": {},
   "source": [
    "This program follows the methods presented by Radi et al. in Monte Carlo Studies of Alpha-accompanied\n",
    "Fission. It does so by taking the mass number, A, of the desired nucleus along with the number of events, \n",
    "and going through the following steps:\n",
    "\n",
    "1. Performing a Monte-Carlo simulation for the mass number and the charge of the light fragment, AL, ZL.\n",
    "    Values for mu and sigma are obtained from (reference TBD)\n",
    "2. Using the semi-empirical mass formula to find the mass of the light fragment, mL.\n",
    "3. Given a fixed A, and the obtained values for AL and ZL, the we get the mass number and charge of the \n",
    "    heavy fragment, assuming Aalapha and Zalpha to be 4 and 2, respectively.\n",
    "4. Using the semi-empirical mass formula to obtain mH. (and alpha?)\n",
    "5. (energies at scission by MC)\n",
    "6. Using equation 21 from the paper to find values for d0 and D0 which will later be used to find the separation\n",
    "    distance between L and the alpha plane, and the distance between L and H, d and D.\n",
    "7. Running a MC simulation of d and D using d0 and D0 as mu, sigma_D=1 and sigma_d=sigma_xp=0.93.\n",
    "8. Using equation 29 to find the coordinates of the prime axes, and setting the distance between alpha and the\n",
    "    x-axis, Rc, equal to y'.\n",
    "9. Using equaion 30 to find the momentum about the prime axes.\n",
    "10. Calculating the initial velocities of L and H, VL0 and VH0 from the conservation of momentum.\n",
    "11. Using equations 11-13 to calculate the constants, R0, V0, and T0. We obtain valuses for RL and RH from\n",
    "    (reference TBD).\n",
    "12. Calculating the initial coordinates and velocity components for the three fragments using equations from\n",
    "    table I.\n",
    "13. Using equations 7-10 to get the dimentionless variables required for the differential equations.\n",
    "14. We get the total momenta of the three fragments and the distance between alpha and both, L and H. These\n",
    "    will be used later to assesss the results of solving the equations of motion.\n",
    "15. A function is written that calls all of the previous functions. This function initializes all the paramaters\n",
    "    before they are passed into the numerical solver.\n",
    "16. Another function is written that solves the differentail equations once the initial parameters are passed to it.\n",
    "17. We write a third function that writes the results into file.\n",
    "18. All of these functions are called within the main function which executes them in the correct sequence.\n",
    "    While assessing the results coming out of the numerical solver. Where if the position of alpha passes\n",
    "    within 0.8 of the radius of either of the other fragments, the program discards that event, and goes back\n",
    "    to initialize new parameters. Additionally, the program checks the change in the momentum of the alpha\n",
    "    particle, and to stop or continue calculating accordingly. Finally, this main function writes into file the\n",
    "    initial and final values of the coordinates, velocities and momenta of the three fragments."
   ]
  },
  {
   "cell_type": "code",
   "execution_count": null,
   "metadata": {
    "collapsed": true
   },
   "outputs": [],
   "source": []
  }
 ],
 "metadata": {
  "kernelspec": {
   "display_name": "Python 2",
   "language": "python",
   "name": "python2"
  },
  "language_info": {
   "codemirror_mode": {
    "name": "ipython",
    "version": 2
   },
   "file_extension": ".py",
   "mimetype": "text/x-python",
   "name": "python",
   "nbconvert_exporter": "python",
   "pygments_lexer": "ipython2",
   "version": "2.7.12"
  }
 },
 "nbformat": 4,
 "nbformat_minor": 2
}
